{
 "cells": [
  {
   "cell_type": "markdown",
   "id": "cee0a830-5d94-45b4-8ef9-c0e6bd7cbc16",
   "metadata": {},
   "source": [
    "### Ejercicio 1"
   ]
  },
  {
   "cell_type": "code",
   "execution_count": 3,
   "id": "728bd0cc-9c88-410a-a943-6a112277bc2d",
   "metadata": {},
   "outputs": [],
   "source": [
    "def convertir_segundos(segundos_totales):\n",
    "    horas = segundos_totales // 3600\n",
    "    segundos_restantes = segundos_totales % 3600\n",
    "    minutos = segundos_restantes // 60\n",
    "    segundos = segundos_restantes % 60\n",
    "    return horas, minutos, segundos"
   ]
  },
  {
   "cell_type": "code",
   "execution_count": 5,
   "id": "b198d315-5c80-4a3a-9e81-587030af1065",
   "metadata": {},
   "outputs": [
    {
     "name": "stdin",
     "output_type": "stream",
     "text": [
      "Ingrese el número de segundos:  5871\n"
     ]
    },
    {
     "name": "stdout",
     "output_type": "stream",
     "text": [
      "Horas: 1, Minutos: 37, Segundos: 51\n"
     ]
    }
   ],
   "source": [
    "segundos_entrada = int(input(\"Ingrese el número de segundos: \"))\n",
    "horas, minutos, segundos = convertir_segundos(segundos_entrada)\n",
    "print(f\"Horas: {horas}, Minutos: {minutos}, Segundos: {segundos}\")"
   ]
  },
  {
   "cell_type": "markdown",
   "id": "9c23b96b-2fa0-4f08-a01d-d7e452fcc496",
   "metadata": {},
   "source": [
    "### Ejercicio 2"
   ]
  },
  {
   "cell_type": "code",
   "execution_count": 8,
   "id": "fe72e34d-9383-4605-b1ad-6f7f9e5a56ee",
   "metadata": {},
   "outputs": [],
   "source": [
    "from datetime import date\n",
    "\n",
    "def calcular_edad_sencillo(dia_nacimiento, mes_nacimiento, año_nacimiento):\n",
    "    fecha_nacimiento = date(año_nacimiento, mes_nacimiento, dia_nacimiento)\n",
    "    fecha_actual = date.today()\n",
    "    \n",
    "    # Resta de fechas\n",
    "    diferencia = fecha_actual - fecha_nacimiento\n",
    "    dias_totales = diferencia.days\n",
    "    \n",
    "    # Cálculo de años, meses y días\n",
    "    años = dias_totales // 365\n",
    "    meses = (dias_totales % 365) // 30\n",
    "    dias = (dias_totales % 365) % 30\n",
    "    \n",
    "    return años, meses, dias"
   ]
  },
  {
   "cell_type": "code",
   "execution_count": 9,
   "id": "2f97bf67-0286-4436-b937-65f948443f17",
   "metadata": {},
   "outputs": [
    {
     "name": "stdin",
     "output_type": "stream",
     "text": [
      "Ingrese el día de nacimiento:  3\n",
      "Ingrese el mes de nacimiento:  7\n",
      "Ingrese el año de nacimiento:  1993\n"
     ]
    },
    {
     "name": "stdout",
     "output_type": "stream",
     "text": [
      "Tienes 31 años, 4 meses y 15 días.\n"
     ]
    }
   ],
   "source": [
    "dia = int(input(\"Ingrese el día de nacimiento: \"))\n",
    "mes = int(input(\"Ingrese el mes de nacimiento: \"))\n",
    "año = int(input(\"Ingrese el año de nacimiento: \"))\n",
    "\n",
    "años, meses, dias = calcular_edad_sencillo(dia, mes, año)\n",
    "print(f\"Tienes {años} años, {meses} meses y {dias} días.\")"
   ]
  },
  {
   "cell_type": "markdown",
   "id": "d7615dcc-2004-4272-83c2-6406af22c329",
   "metadata": {},
   "source": [
    "### Ejercicio 3"
   ]
  },
  {
   "cell_type": "code",
   "execution_count": 12,
   "id": "269edc78-fc1d-4dd0-8e75-b79709bfbce2",
   "metadata": {},
   "outputs": [],
   "source": [
    "def tupla_a_cadena(tupla):\n",
    "    resultado = ''.join(map(str, tupla))\n",
    "    return resultado"
   ]
  },
  {
   "cell_type": "code",
   "execution_count": 13,
   "id": "80c266f0-db0b-45ff-95d0-f9781f616285",
   "metadata": {},
   "outputs": [
    {
     "name": "stdout",
     "output_type": "stream",
     "text": [
      "La tupla convertida a cadena es: 102040570\n"
     ]
    }
   ],
   "source": [
    "tupla_ejemplo = (10, 20, 40, 5, 70)\n",
    "resultado = tupla_a_cadena(tupla_ejemplo)\n",
    "print(f\"La tupla convertida a cadena es: {resultado}\")"
   ]
  },
  {
   "cell_type": "markdown",
   "id": "212ee668-bbbd-474b-9d2c-759373dd2fd1",
   "metadata": {},
   "source": [
    "### Ejercicio 4"
   ]
  },
  {
   "cell_type": "code",
   "execution_count": 14,
   "id": "315581c7-5536-48ff-bb50-c534e159c65c",
   "metadata": {},
   "outputs": [],
   "source": [
    "def eliminar_tuplas_vacias(lista_tuplas):\n",
    "    resultado = [tupla for tupla in lista_tuplas if tupla]\n",
    "    return resultado"
   ]
  },
  {
   "cell_type": "code",
   "execution_count": 15,
   "id": "f3be73eb-b726-4eae-be92-b02f83ec2141",
   "metadata": {},
   "outputs": [
    {
     "name": "stdout",
     "output_type": "stream",
     "text": [
      "La lista sin tuplas vacías es: [('X',), ('a', 'b'), ('a', 'b', 'c'), 'd']\n"
     ]
    }
   ],
   "source": [
    "lista_ejemplo = [(), (), ('X',), ('a', 'b'), ('a', 'b', 'c'), 'd']\n",
    "resultado = eliminar_tuplas_vacias(lista_ejemplo)\n",
    "print(f\"La lista sin tuplas vacías es: {resultado}\")"
   ]
  },
  {
   "cell_type": "markdown",
   "id": "21384078-4928-4e71-9c3d-4b0034e6afe6",
   "metadata": {},
   "source": [
    "### Ejercicio 5"
   ]
  },
  {
   "cell_type": "code",
   "execution_count": 16,
   "id": "a15dee60-3152-4ab5-b3f9-8c540b6d459f",
   "metadata": {},
   "outputs": [],
   "source": [
    "def promedios_tuplas(lista_tuplas):\n",
    "    resultado = tuple(sum(tupla) / len(tupla) for tupla in lista_tuplas if len(tupla) > 0)\n",
    "    return resultado"
   ]
  },
  {
   "cell_type": "code",
   "execution_count": 17,
   "id": "89302f87-41cf-44d4-92a4-243a7ce5703c",
   "metadata": {},
   "outputs": [
    {
     "name": "stdout",
     "output_type": "stream",
     "text": [
      "El promedio de cada tupla es: (10.5, 44.0, 58.0)\n"
     ]
    }
   ],
   "source": [
    "lista_ejemplo = [(10, 10, 10, 12), (30, 45, 56, 45), (81, 80, 39, 32)]\n",
    "resultado = promedios_tuplas(lista_ejemplo)\n",
    "print(f\"El promedio de cada tupla es: {resultado}\")"
   ]
  },
  {
   "cell_type": "markdown",
   "id": "20e3ea28-1cb4-46b6-a5c7-6de15b8735aa",
   "metadata": {},
   "source": [
    "### Ejercicio 6"
   ]
  },
  {
   "cell_type": "code",
   "execution_count": 19,
   "id": "295e9d08-4bf5-4ace-9dd6-9567983bca3c",
   "metadata": {},
   "outputs": [],
   "source": [
    "def gestionar_facturas():\n",
    "    facturas = {}\n",
    "    total_cobrado = 0\n",
    "\n",
    "    while True:\n",
    "        print(\"\\nOpciones:\")\n",
    "        print(\"1. Agregar nueva factura\")\n",
    "        print(\"2. Pagar factura existente\")\n",
    "        print(\"3. Salir\")\n",
    "        opcion = input(\"Seleccione una opción (1/2/3): \")\n",
    "\n",
    "        if opcion == \"1\":\n",
    "            numero_factura = input(\"Ingrese el número de factura (4 dígitos): \")\n",
    "            if numero_factura in facturas:\n",
    "                print(\"La factura ya existe.\")\n",
    "            else:\n",
    "                coste = float(input(\"Ingrese el coste de la factura: \"))\n",
    "                facturas[numero_factura] = coste\n",
    "                print(\"Factura añadida correctamente.\")\n",
    "            print(f\"Facturas actuales: {facturas}\")\n",
    "\n",
    "        elif opcion == \"2\":\n",
    "            numero_factura = input(\"Ingrese el número de factura a pagar: \")\n",
    "            if numero_factura in facturas:\n",
    "                total_cobrado += facturas.pop(numero_factura)\n",
    "                print(f\"Factura {numero_factura} pagada.\")\n",
    "            else:\n",
    "                print(\"La factura no existe.\")\n",
    "            print(f\"Facturas actuales: {facturas}\")\n",
    "\n",
    "        elif opcion == \"3\":\n",
    "            print(\"Saliendo del programa.\")\n",
    "            break\n",
    "\n",
    "        else:\n",
    "            print(\"Opción no válida.\")\n",
    "\n",
    "        total_pendiente = sum(facturas.values())\n",
    "        print(f\"Total cobrado hasta el momento: {total_cobrado}\")\n",
    "        print(f\"Total pendiente de cobro: {total_pendiente}\")"
   ]
  },
  {
   "cell_type": "code",
   "execution_count": 21,
   "id": "b8967afb-68da-44f9-8a05-95df9b50ef9d",
   "metadata": {},
   "outputs": [
    {
     "name": "stdout",
     "output_type": "stream",
     "text": [
      "\n",
      "Opciones:\n",
      "1. Agregar nueva factura\n",
      "2. Pagar factura existente\n",
      "3. Salir\n"
     ]
    },
    {
     "name": "stdin",
     "output_type": "stream",
     "text": [
      "Seleccione una opción (1/2/3):  1\n",
      "Ingrese el número de factura (4 dígitos):  1234\n",
      "Ingrese el coste de la factura:  23.67\n"
     ]
    },
    {
     "name": "stdout",
     "output_type": "stream",
     "text": [
      "Factura añadida correctamente.\n",
      "Facturas actuales: {'1234': 23.67}\n",
      "Total cobrado hasta el momento: 0\n",
      "Total pendiente de cobro: 23.67\n",
      "\n",
      "Opciones:\n",
      "1. Agregar nueva factura\n",
      "2. Pagar factura existente\n",
      "3. Salir\n"
     ]
    },
    {
     "name": "stdin",
     "output_type": "stream",
     "text": [
      "Seleccione una opción (1/2/3):  1\n",
      "Ingrese el número de factura (4 dígitos):  2345\n",
      "Ingrese el coste de la factura:  500.80\n"
     ]
    },
    {
     "name": "stdout",
     "output_type": "stream",
     "text": [
      "Factura añadida correctamente.\n",
      "Facturas actuales: {'1234': 23.67, '2345': 500.8}\n",
      "Total cobrado hasta el momento: 0\n",
      "Total pendiente de cobro: 524.47\n",
      "\n",
      "Opciones:\n",
      "1. Agregar nueva factura\n",
      "2. Pagar factura existente\n",
      "3. Salir\n"
     ]
    },
    {
     "name": "stdin",
     "output_type": "stream",
     "text": [
      "Seleccione una opción (1/2/3):  2\n",
      "Ingrese el número de factura a pagar:  1234\n"
     ]
    },
    {
     "name": "stdout",
     "output_type": "stream",
     "text": [
      "Factura 1234 pagada.\n",
      "Facturas actuales: {'2345': 500.8}\n",
      "Total cobrado hasta el momento: 23.67\n",
      "Total pendiente de cobro: 500.8\n",
      "\n",
      "Opciones:\n",
      "1. Agregar nueva factura\n",
      "2. Pagar factura existente\n",
      "3. Salir\n"
     ]
    },
    {
     "name": "stdin",
     "output_type": "stream",
     "text": [
      "Seleccione una opción (1/2/3):  3\n"
     ]
    },
    {
     "name": "stdout",
     "output_type": "stream",
     "text": [
      "Saliendo del programa.\n"
     ]
    }
   ],
   "source": [
    "gestionar_facturas()"
   ]
  },
  {
   "cell_type": "markdown",
   "id": "d03beb72-7488-4dbb-9744-a57fbba5892d",
   "metadata": {},
   "source": [
    "### Ejercicio 7"
   ]
  },
  {
   "cell_type": "code",
   "execution_count": 35,
   "id": "3e6ca9e0-38d0-48b8-8daf-6a4abec4eca8",
   "metadata": {},
   "outputs": [
    {
     "name": "stdout",
     "output_type": "stream",
     "text": [
      "Tamaño del Conjunto 1 (generado aleatoriamente): 30\n",
      "Conjunto 1: {'C01', 'P08', 'E04', 'C11', 'T05', 'P04', 'C06', 'C12', 'T02', 'P12', 'T07', 'E02', 'P13', 'C13', 'P07', 'T11', 'C05', 'E06', 'P06', 'T10', 'T03', 'P10', 'P03', 'T06', 'E05', 'P05', 'C10', 'E09', 'C03', 'E10'}\n",
      "\n",
      "Tamaño del Conjunto 2 (generado aleatoriamente): 8\n",
      "Conjunto 2: {'T08', 'E11', 'E01', 'P02', 'P06', 'E12', 'C11', 'T05'}\n",
      "\n",
      "Intersección de ambos conjuntos: {'C11', 'T05', 'P06'}\n",
      "Unión de ambos conjuntos: {'E11', 'E01', 'C01', 'P08', 'E04', 'C11', 'T05', 'P04', 'C06', 'C12', 'T02', 'T08', 'P12', 'T07', 'P02', 'E02', 'C13', 'P13', 'P07', 'T11', 'C05', 'E06', 'P06', 'T10', 'E12', 'T03', 'P10', 'P03', 'T06', 'E05', 'P05', 'C10', 'E09', 'C03', 'E10'}\n",
      "\n",
      "Probabilidad de A (Conjunto 1): 0.58\n",
      "Probabilidad de B (Conjunto 2): 0.15\n",
      "\n",
      "Probabilidad de la intersección (calculada directamente): 0.06\n",
      "Probabilidad de intersección (regla del producto): 0.09\n",
      "Los eventos no son independientes según la regla del producto.\n",
      "\n",
      "Probabilidad de la unión (calculada directamente): 0.67\n",
      "Probabilidad de la unión (regla de la adición): 0.67\n",
      "La regla de la adición se cumple.\n"
     ]
    }
   ],
   "source": [
    "import random\n",
    "\n",
    "def crear_baraja():\n",
    "    \"\"\"Crea una baraja de cartas de póker con formato Tipo-Numero.\"\"\"\n",
    "    tipos = ['T', 'C', 'P', 'E']  # T: tréboles, C: corazones, P: picas, E: espadas\n",
    "    return {f\"{tipo}{str(num).zfill(2)}\" for tipo in tipos for num in range(1, 14)}\n",
    "\n",
    "def generar_conjuntos_aleatorios(baraja):\n",
    "    \"\"\"Genera dos conjuntos aleatorios con tamaños variables a partir de la baraja.\"\"\"\n",
    "    tamaño_conjunto1 = random.randint(1, 52)\n",
    "    tamaño_conjunto2 = random.randint(1, 52)\n",
    "    conjunto1 = set(random.sample(list(baraja), tamaño_conjunto1))\n",
    "    conjunto2 = set(random.sample(list(baraja), tamaño_conjunto2))\n",
    "    return conjunto1, conjunto2, tamaño_conjunto1, tamaño_conjunto2\n",
    "\n",
    "def calcular_probabilidades(conjunto1, conjunto2):\n",
    "    \"\"\"Calcula las probabilidades de los conjuntos y su intersección.\"\"\"\n",
    "    interseccion = conjunto1 & conjunto2\n",
    "    union = conjunto1 | conjunto2\n",
    "    prob_A = len(conjunto1) / 52\n",
    "    prob_B = len(conjunto2) / 52\n",
    "    prob_interseccion = len(interseccion) / 52\n",
    "    prob_union = len(union) / 52\n",
    "    \n",
    "    prob_union_regla_adicion = prob_A + prob_B - prob_interseccion\n",
    "    prob_interseccion_regla_producto = prob_A * prob_B\n",
    "    return {\n",
    "        \"interseccion\": interseccion,\n",
    "        \"union\": union,\n",
    "        \"prob_A\": prob_A,\n",
    "        \"prob_B\": prob_B,\n",
    "        \"prob_interseccion\": prob_interseccion,\n",
    "        \"prob_union\": prob_union,\n",
    "        \"prob_union_regla_adicion\": prob_union_regla_adicion,\n",
    "        \"prob_interseccion_regla_producto\": prob_interseccion_regla_producto\n",
    "    }\n",
    "\n",
    "def mostrar_resultados(conjunto1, conjunto2, tamaño_conjunto1, tamaño_conjunto2, resultados):\n",
    "    \"\"\"Muestra los resultados del cálculo de probabilidades y verifica reglas.\"\"\"\n",
    "    print(f\"Tamaño del Conjunto 1 (generado aleatoriamente): {tamaño_conjunto1}\")\n",
    "    print(f\"Conjunto 1: {conjunto1}\\n\")\n",
    "    \n",
    "    print(f\"Tamaño del Conjunto 2 (generado aleatoriamente): {tamaño_conjunto2}\")\n",
    "    print(f\"Conjunto 2: {conjunto2}\\n\")\n",
    "    \n",
    "    print(f\"Intersección de ambos conjuntos: {resultados['interseccion']}\")\n",
    "    print(f\"Unión de ambos conjuntos: {resultados['union']}\\n\")\n",
    "    \n",
    "    \n",
    "    print(f\"Probabilidad de A (Conjunto 1): {resultados['prob_A']:.2f}\")\n",
    "    print(f\"Probabilidad de B (Conjunto 2): {resultados['prob_B']:.2f}\\n\")\n",
    "\n",
    "    \n",
    "    print(f\"Probabilidad de la intersección (calculada directamente): {resultados['prob_interseccion']:.2f}\")\n",
    "    print(f\"Probabilidad de intersección (regla del producto): {resultados['prob_interseccion_regla_producto']:.2f}\")\n",
    "    # Verificación de independencia usando la regla del producto\n",
    "    if abs(resultados['prob_interseccion'] - resultados['prob_interseccion_regla_producto']) < 1e-5:\n",
    "        print(\"Los eventos son independientes según la regla del producto.\\n\")\n",
    "    else:\n",
    "        print(\"Los eventos no son independientes según la regla del producto.\\n\")\n",
    "\n",
    "    \n",
    "    print(f\"Probabilidad de la unión (calculada directamente): {resultados['prob_union']:.2f}\")\n",
    "    print(f\"Probabilidad de la unión (regla de la adición): {resultados['prob_union_regla_adicion']:.2f}\")\n",
    "\n",
    "    # Verificación de la regla de la adición\n",
    "    if abs(resultados['prob_union'] - resultados['prob_union_regla_adicion']) < 1e-5:\n",
    "        print(\"La regla de la adición se cumple.\")\n",
    "    else:\n",
    "        print(\"La regla de la adición no se cumple.\")\n",
    "\n",
    "\n",
    "\n",
    "def main():\n",
    "    \"\"\"Programa principal.\"\"\"\n",
    "    baraja = crear_baraja()\n",
    "    conjunto1, conjunto2, tamaño_conjunto1, tamaño_conjunto2 = generar_conjuntos_aleatorios(baraja)\n",
    "    resultados = calcular_probabilidades(conjunto1, conjunto2)\n",
    "    mostrar_resultados(conjunto1, conjunto2, tamaño_conjunto1, tamaño_conjunto2, resultados)\n",
    "\n",
    "# Ejecutar el programa principal\n",
    "if __name__ == \"__main__\":\n",
    "    main()"
   ]
  },
  {
   "cell_type": "code",
   "execution_count": null,
   "id": "0895fbda-90bc-4c53-b416-ddb05b527eaa",
   "metadata": {},
   "outputs": [],
   "source": []
  }
 ],
 "metadata": {
  "kernelspec": {
   "display_name": "Python 3 (ipykernel)",
   "language": "python",
   "name": "python3"
  },
  "language_info": {
   "codemirror_mode": {
    "name": "ipython",
    "version": 3
   },
   "file_extension": ".py",
   "mimetype": "text/x-python",
   "name": "python",
   "nbconvert_exporter": "python",
   "pygments_lexer": "ipython3",
   "version": "3.12.7"
  }
 },
 "nbformat": 4,
 "nbformat_minor": 5
}
